{
 "cells": [
  {
   "cell_type": "markdown",
   "metadata": {},
   "source": [
    "# Final Project"
   ]
  },
  {
   "cell_type": "code",
   "execution_count": null,
   "metadata": {},
   "outputs": [],
   "source": [
    "import pandas as pd"
   ]
  },
  {
   "cell_type": "code",
   "execution_count": null,
   "metadata": {},
   "outputs": [],
   "source": [
    "temperatures = pd.read_csv(\"data/temperature.csv\")\n",
    "temperatures['Date'] = pd.to_datetime(temperatures['Date'].astype(str), format='%Y%m').dt.to_period('M')\n",
    "\n",
    "wildfires = pd.read_csv(\"data/wildfire.csv\")\n",
    "wildfires['Date'] = pd.to_datetime(wildfires['Date'].astype(str), format='%Y%m').dt.to_period('M')\n",
    "\n",
    "hurricane = pd.read_csv(\"data/hurricane.csv\")\n",
    "hurricane['Date'] = hurricane['year'].astype(str) + \"-\" + hurricane['month'].astype(str).str.zfill(2) + \"-\" + hurricane['day'].astype(str).str.zfill(2)\n",
    "hurricane['Date'] = pd.to_datetime(hurricane['Date'], format=\"%Y-%m-%d\").dt.to_period('M')\n",
    "\n",
    "tornadoes = pd.read_csv(\"data/tornado.csv\")\n",
    "tornadoes['Date'] = pd.to_datetime(tornadoes['Date'].astype(str), format='%Y%m').dt.to_period('M')\n",
    "\n",
    "new_tornadoes = pd.read_csv(\"data/1950-2023_actual_tornadoes.csv\")\n",
    "new_tornadoes['Date'] = pd.to_datetime(new_tornadoes['date'], format=\"%Y-%m-%d\").dt.to_period('M')\n",
    "\n",
    "earthquake = pd.read_csv(\"data/eqint_tsqp.csv\")\n",
    "earthquake_usa = earthquake[(earthquake.COUNTRY == \"USA\") & (earthquake.LONGITUDE < 0)]\n",
    "\n",
    "display(temperatures)\n",
    "display(wildfires)\n",
    "display(hurricane)\n",
    "display(tornadoes)\n",
    "display(new_tornadoes)"
   ]
  },
  {
   "cell_type": "code",
   "execution_count": null,
   "metadata": {},
   "outputs": [],
   "source": [
    "from functools import reduce\n",
    "\n",
    "\n",
    "super_dfs = [temperatures, tornadoes, wildfires, hurricane]\n",
    "result = reduce(lambda left, right: pd.merge(left, right, on='Date', how='inner'), super_dfs)\n",
    "display(result)"
   ]
  },
  {
   "cell_type": "code",
   "execution_count": null,
   "metadata": {},
   "outputs": [],
   "source": [
    "import pandas as pd\n",
    "import geopandas\n",
    "import matplotlib.pyplot as plt\n",
    "from geodatasets import get_path"
   ]
  },
  {
   "cell_type": "code",
   "execution_count": null,
   "metadata": {},
   "outputs": [],
   "source": [
    "gdf = geopandas.GeoDataFrame(\n",
    "    earthquake_usa, geometry=geopandas.points_from_xy(earthquake_usa.LONGITUDE, earthquake_usa.LATITUDE), crs=\"EPSG:4326\"\n",
    ")\n",
    "print(gdf.head())"
   ]
  },
  {
   "cell_type": "code",
   "execution_count": null,
   "metadata": {},
   "outputs": [],
   "source": [
    "world = geopandas.read_file(get_path(\"naturalearth.land\"))\n",
    "\n",
    "# We restrict to South America.\n",
    "ax = world.clip([-200, 10, -50, 72]).plot(color=\"white\", edgecolor=\"black\")\n",
    "\n",
    "# We can now plot our ``GeoDataFrame``.\n",
    "gdf.plot(ax=ax, color=\"red\", markersize=1)\n",
    "\n",
    "plt.show()"
   ]
  },
  {
   "cell_type": "code",
   "execution_count": null,
   "metadata": {},
   "outputs": [],
   "source": [
    "# This example uses heatmaps to visualize the density of volcanoes\n",
    "# which is more in some parts of the world compared to others.\n",
    "import folium\n",
    "from folium import plugins\n",
    "\n",
    "map = folium.Map(location=[15, 30], tiles=\"Cartodb dark_matter\", zoom_start=2)\n",
    "\n",
    "heat_data = [[point.xy[1][0], point.xy[0][0]] for point in gdf.geometry]\n",
    "\n",
    "heat_data\n",
    "plugins.HeatMap(heat_data).add_to(map)\n",
    "\n",
    "map"
   ]
  }
 ],
 "metadata": {
  "kernelspec": {
   "display_name": "Python 3",
   "language": "python",
   "name": "python3"
  },
  "language_info": {
   "codemirror_mode": {
    "name": "ipython",
    "version": 3
   },
   "file_extension": ".py",
   "mimetype": "text/x-python",
   "name": "python",
   "nbconvert_exporter": "python",
   "pygments_lexer": "ipython3",
   "version": "3.12.0"
  }
 },
 "nbformat": 4,
 "nbformat_minor": 2
}
